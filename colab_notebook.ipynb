{
  "cells": [
    {
      "cell_type": "code",
      "execution_count": 1,
      "id": "initial_id",
      "metadata": {
        "collapsed": true,
        "id": "initial_id",
        "outputId": "cf89e06b-11eb-4f34-bb57-bedccaca671c",
        "colab": {
          "base_uri": "https://localhost:8080/"
        }
      },
      "outputs": [
        {
          "output_type": "stream",
          "name": "stdout",
          "text": [
            "Cloning into 'DDPM'...\n",
            "remote: Enumerating objects: 54, done.\u001b[K\n",
            "remote: Counting objects: 100% (54/54), done.\u001b[K\n",
            "remote: Compressing objects: 100% (39/39), done.\u001b[K\n",
            "remote: Total 54 (delta 29), reused 40 (delta 15), pack-reused 0 (from 0)\u001b[K\n",
            "Receiving objects: 100% (54/54), 11.60 KiB | 212.00 KiB/s, done.\n",
            "Resolving deltas: 100% (29/29), done.\n"
          ]
        }
      ],
      "source": [
        "!git clone https://github.com/Paul-Fontaine/DDPM/"
      ]
    },
    {
      "cell_type": "code",
      "source": [
        "!git checkout debug"
      ],
      "metadata": {
        "id": "nroBsfYwpFA1"
      },
      "id": "nroBsfYwpFA1",
      "execution_count": null,
      "outputs": []
    },
    {
      "cell_type": "code",
      "source": [
        "%cd /content/DDPM/"
      ],
      "metadata": {
        "id": "ro9CyiV8ow1A",
        "outputId": "048c1c71-39c5-4c72-dacf-aa2c0857854f",
        "colab": {
          "base_uri": "https://localhost:8080/"
        }
      },
      "id": "ro9CyiV8ow1A",
      "execution_count": 2,
      "outputs": [
        {
          "output_type": "stream",
          "name": "stdout",
          "text": [
            "/content/DDPM\n"
          ]
        }
      ]
    },
    {
      "cell_type": "code",
      "source": [
        "!rm -rf runs/"
      ],
      "metadata": {
        "id": "LQkcPU-Ho2kx"
      },
      "id": "LQkcPU-Ho2kx",
      "execution_count": null,
      "outputs": []
    },
    {
      "cell_type": "code",
      "source": [
        "%reload_ext tensorboard\n",
        "%tensorboard --logdir=runs"
      ],
      "metadata": {
        "id": "oCwk7YXko7ON"
      },
      "id": "oCwk7YXko7ON",
      "execution_count": null,
      "outputs": []
    },
    {
      "cell_type": "code",
      "source": [
        "!git pull"
      ],
      "metadata": {
        "id": "_yfq0ncMo-0W"
      },
      "id": "_yfq0ncMo-0W",
      "execution_count": null,
      "outputs": []
    },
    {
      "cell_type": "code",
      "source": [
        "!python train.py"
      ],
      "metadata": {
        "id": "UKXMStpJpBa4"
      },
      "id": "UKXMStpJpBa4",
      "execution_count": null,
      "outputs": []
    }
  ],
  "metadata": {
    "kernelspec": {
      "display_name": "Python 3",
      "name": "python3"
    },
    "language_info": {
      "codemirror_mode": {
        "name": "ipython",
        "version": 2
      },
      "file_extension": ".py",
      "mimetype": "text/x-python",
      "name": "python",
      "nbconvert_exporter": "python",
      "pygments_lexer": "ipython2",
      "version": "2.7.6"
    },
    "colab": {
      "provenance": [],
      "gpuType": "T4"
    },
    "accelerator": "GPU"
  },
  "nbformat": 4,
  "nbformat_minor": 5
}